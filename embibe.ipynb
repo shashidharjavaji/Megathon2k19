{
 "cells": [
  {
   "cell_type": "code",
   "execution_count": 1,
   "metadata": {},
   "outputs": [
    {
     "name": "stdout",
     "output_type": "stream",
     "text": [
      "Requirement already satisfied: en_core_web_sm==2.1.0 from https://github.com/explosion/spacy-models/releases/download/en_core_web_sm-2.1.0/en_core_web_sm-2.1.0.tar.gz#egg=en_core_web_sm==2.1.0 in c:\\users\\dell\\anaconda3\\lib\\site-packages (2.1.0)\n",
      "[+] Download and installation successful\n",
      "You can now load the model via spacy.load('en_core_web_sm')\n",
      "[x] Couldn't link model to 'en'\n",
      "Creating a symlink in spacy/data failed. Make sure you have the required\n",
      "permissions and try re-running the command as admin, or use a virtualenv. You\n",
      "can still import the model as a module and call its load() method, or create the\n",
      "symlink manually.\n",
      "C:\\Users\\DELL\\Anaconda3\\lib\\site-packages\\en_core_web_sm -->\n",
      "C:\\Users\\DELL\\Anaconda3\\lib\\site-packages\\spacy\\data\\en\n",
      "[!] Download successful but linking failed\n",
      "Creating a shortcut link for 'en' didn't work (maybe you don't have admin\n",
      "permissions?), but you can still load the model via its full package name: nlp =\n",
      "spacy.load('en_core_web_sm')\n"
     ]
    },
    {
     "name": "stderr",
     "output_type": "stream",
     "text": [
      "You do not have sufficient privilege to perform this operation.\n"
     ]
    }
   ],
   "source": [
    "!python -m spacy download en"
   ]
  },
  {
   "cell_type": "code",
   "execution_count": 4,
   "metadata": {},
   "outputs": [],
   "source": [
    "import spacy \n",
    "nlp = spacy.load(\"en_core_web_sm\")\n",
    "nlp = spacy.load(\"en_core_web_md\")"
   ]
  },
  {
   "cell_type": "code",
   "execution_count": 7,
   "metadata": {},
   "outputs": [
    {
     "name": "stderr",
     "output_type": "stream",
     "text": [
      "[nltk_data] Downloading package punkt to\n",
      "[nltk_data]     C:\\Users\\DELL\\AppData\\Roaming\\nltk_data...\n",
      "[nltk_data]   Unzipping tokenizers\\punkt.zip.\n"
     ]
    },
    {
     "data": {
      "text/plain": [
       "True"
      ]
     },
     "execution_count": 7,
     "metadata": {},
     "output_type": "execute_result"
    }
   ],
   "source": [
    "import nltk\n",
    "nltk.download('punkt')"
   ]
  },
  {
   "cell_type": "code",
   "execution_count": 9,
   "metadata": {},
   "outputs": [
    {
     "name": "stderr",
     "output_type": "stream",
     "text": [
      "[nltk_data] Downloading package averaged_perceptron_tagger to\n",
      "[nltk_data]     C:\\Users\\DELL\\AppData\\Roaming\\nltk_data...\n",
      "[nltk_data]   Unzipping taggers\\averaged_perceptron_tagger.zip.\n"
     ]
    },
    {
     "data": {
      "text/plain": [
       "True"
      ]
     },
     "execution_count": 9,
     "metadata": {},
     "output_type": "execute_result"
    }
   ],
   "source": [
    "nltk.download('averaged_perceptron_tagger')"
   ]
  },
  {
   "cell_type": "code",
   "execution_count": 12,
   "metadata": {},
   "outputs": [
    {
     "name": "stdout",
     "output_type": "stream",
     "text": [
      "Warning: parsing empty text\n",
      "Warning: parsing empty text\n",
      "Warning: parsing empty text\n",
      "Warning: parsing empty text\n",
      "Warning: parsing empty text\n",
      "Warning: parsing empty text\n",
      "Warning: parsing empty text\n",
      "\n",
      "\n",
      "------X------\n",
      "Start  output:\n",
      "\n",
      "Q-01: Who recall that all living organisms are made of cells?\n",
      "Q-02: Who are made of cells?\n",
      "Q-03: What are most of these cells specialised to carry out specific functions?\n",
      "Q-04: What are most of these cells specialised to c N?\n",
      "Q-05: Who are specialised to carry out specific functions?\n",
      "Q-06: What is each specialised function taken up by a different group of cells?\n",
      "Q-07: Who is taken up by a different group of cells?\n",
      "Q-08: Whom do they do very efficiently?\n",
      "Q-09: Who do it very efficiently?\n",
      "Q-10: What vascular tissues c N and water from one part of the plant to other parts?\n",
      "Q-11: Who conduct food and water from one part of the plant to other parts?\n",
      "Q-12: What N of labour?\n",
      "Q-13: Who show division of labour?\n",
      "Q-14: Who specialising in one function are often grouped together in the body?\n",
      "Q-15: Who are often grouped together in the body?\n",
      "Q-16: Who means that a particular function is carried out by a cluster of cells at a definite place in the body?\n",
      "Q-17: Who is carried out by a cluster of cells at a definite place in the body?\n",
      "Q-18: What did called a tissue called and designed so as to give the highest possible efficiency of function?\n",
      "Q-19: What are phloem and muscle of tissues?\n",
      "Q-20: Who are all examples of tissues?\n",
      "Q-21: Who compare their structure and functions?\n",
      "Q-22: Who have the same structure ? do they both perform similar functions ? there are noticeable differences between the two?\n",
      "Q-23: Who perform similar functions ? there are noticeable differences between the two?\n",
      "Q-24: What do they have of supportive tissue?\n",
      "Q-25: Who have a large quantity of supportive tissue?\n",
      "Q-26: What does the supportive tissue generally has?\n",
      "Q-27: Who generally has dead cells?\n",
      "Q-28: What they c N as compared to plants?\n",
      "Q-29: Who consume more energy as compared to plants?\n",
      "Q-30: Who compared to plants?\n",
      "Q-31: What most of the tissues they c N?\n",
      "Q-32: Who contain are living?\n",
      "Q-33: Who is in the pattern of growth?\n",
      "Q-34: Who is not so in animals?\n",
      "Q-35: What are these tissues localised in certain regions?\n",
      "Q-36: Who are localised in certain regions?\n",
      "Q-37: What can various plant tissues be classified as growing or meristematic tissue and permanent tissue?\n",
      "Q-38: Who can be classified as growing or meristematic tissue and permanent tissue?\n",
      "Q-39: Who growing or meristematic tissue and permanent tissue?\n",
      "Q-40: Who is more uniform?\n",
      "Q-41: Who dividing and non-dividing regions in animals?\n",
      "Q-42: Who is far more specialised and localised in complex animals than even in very complex plants?\n",
      "Q-43: Who is with reference to these complex animal and plant bodies that you will now talk about the concept of tissues in some detail?\n",
      "Q-44: Who will now talk about the concept of tissues in some detail?\n",
      "\n",
      "End  OutPut\n",
      "-----X-----\n",
      "\n",
      "\n"
     ]
    },
    {
     "ename": "OSError",
     "evalue": "[Errno 22] Invalid argument: 'output file path -- ?? ../DB/output.txt'",
     "output_type": "error",
     "traceback": [
      "\u001b[1;31m---------------------------------------------------------------------------\u001b[0m",
      "\u001b[1;31mOSError\u001b[0m                                   Traceback (most recent call last)",
      "\u001b[1;32m<ipython-input-12-d86f77fb11e5>\u001b[0m in \u001b[0;36m<module>\u001b[1;34m\u001b[0m\n\u001b[0;32m     24\u001b[0m \u001b[1;31m# Call Main Function\u001b[0m\u001b[1;33m\u001b[0m\u001b[1;33m\u001b[0m\u001b[1;33m\u001b[0m\u001b[0m\n\u001b[0;32m     25\u001b[0m \u001b[1;32mif\u001b[0m \u001b[0m__name__\u001b[0m \u001b[1;33m==\u001b[0m \u001b[1;34m\"__main__\"\u001b[0m\u001b[1;33m:\u001b[0m\u001b[1;33m\u001b[0m\u001b[1;33m\u001b[0m\u001b[0m\n\u001b[1;32m---> 26\u001b[1;33m     \u001b[0mmain\u001b[0m\u001b[1;33m(\u001b[0m\u001b[1;33m)\u001b[0m\u001b[1;33m\u001b[0m\u001b[1;33m\u001b[0m\u001b[0m\n\u001b[0m",
      "\u001b[1;32m<ipython-input-12-d86f77fb11e5>\u001b[0m in \u001b[0;36mmain\u001b[1;34m()\u001b[0m\n\u001b[0;32m     15\u001b[0m \u001b[1;33m\u001b[0m\u001b[0m\n\u001b[0;32m     16\u001b[0m     \u001b[0mquestionList\u001b[0m \u001b[1;33m=\u001b[0m \u001b[0maqg\u001b[0m\u001b[1;33m.\u001b[0m\u001b[0maqgParse\u001b[0m\u001b[1;33m(\u001b[0m\u001b[0minputText\u001b[0m\u001b[1;33m)\u001b[0m\u001b[1;33m\u001b[0m\u001b[1;33m\u001b[0m\u001b[0m\n\u001b[1;32m---> 17\u001b[1;33m     \u001b[0maqg\u001b[0m\u001b[1;33m.\u001b[0m\u001b[0mdisplay\u001b[0m\u001b[1;33m(\u001b[0m\u001b[0mquestionList\u001b[0m\u001b[1;33m)\u001b[0m\u001b[1;33m\u001b[0m\u001b[1;33m\u001b[0m\u001b[0m\n\u001b[0m\u001b[0;32m     18\u001b[0m \u001b[1;33m\u001b[0m\u001b[0m\n\u001b[0;32m     19\u001b[0m     \u001b[1;31m#aqg.DisNormal(questionList)\u001b[0m\u001b[1;33m\u001b[0m\u001b[1;33m\u001b[0m\u001b[1;33m\u001b[0m\u001b[0m\n",
      "\u001b[1;32m~\\Desktop\\Embibe\\aqgFunction.py\u001b[0m in \u001b[0;36mdisplay\u001b[1;34m(self, str)\u001b[0m\n\u001b[0;32m    175\u001b[0m \u001b[1;33m\u001b[0m\u001b[0m\n\u001b[0;32m    176\u001b[0m         \u001b[0moutput\u001b[0m \u001b[1;33m=\u001b[0m \u001b[1;34m\"DB/output.txt\"\u001b[0m\u001b[1;33m\u001b[0m\u001b[1;33m\u001b[0m\u001b[0m\n\u001b[1;32m--> 177\u001b[1;33m         \u001b[0mw\u001b[0m \u001b[1;33m=\u001b[0m \u001b[0mopen\u001b[0m\u001b[1;33m(\u001b[0m\u001b[0moutput\u001b[0m\u001b[1;33m,\u001b[0m \u001b[1;34m'w+'\u001b[0m\u001b[1;33m,\u001b[0m \u001b[0mencoding\u001b[0m\u001b[1;33m=\u001b[0m\u001b[1;34m\"utf8\"\u001b[0m\u001b[1;33m)\u001b[0m\u001b[1;33m\u001b[0m\u001b[1;33m\u001b[0m\u001b[0m\n\u001b[0m\u001b[0;32m    178\u001b[0m         \u001b[0mw\u001b[0m\u001b[1;33m.\u001b[0m\u001b[0mwrite\u001b[0m\u001b[1;33m(\u001b[0m\u001b[0mout\u001b[0m\u001b[1;33m)\u001b[0m\u001b[1;33m\u001b[0m\u001b[1;33m\u001b[0m\u001b[0m\n\u001b[0;32m    179\u001b[0m         \u001b[0mw\u001b[0m\u001b[1;33m.\u001b[0m\u001b[0mclose\u001b[0m\u001b[1;33m(\u001b[0m\u001b[1;33m)\u001b[0m\u001b[1;33m\u001b[0m\u001b[1;33m\u001b[0m\u001b[0m\n",
      "\u001b[1;31mOSError\u001b[0m: [Errno 22] Invalid argument: 'output file path -- ?? ../DB/output.txt'"
     ]
    }
   ],
   "source": [
    "import aqgFunction\n",
    "\n",
    "\n",
    "# Main Function\n",
    "def main():\n",
    "    # Create AQG object\n",
    "    aqg = aqgFunction.AutomaticQuestionGenerator()\n",
    "\n",
    "    inputTextPath = \"DB/db.txt\"\n",
    "    #readFile = open(inputTextPath, 'r+', encoding=\"utf8\")\n",
    "    readFile = open(inputTextPath, 'r+', encoding=\"utf8\", errors = 'ignore')\n",
    "\n",
    "    inputText = readFile.read()\n",
    "    #inputText = '''I am Dipta. I love codding. I build my carrier with this.'''\n",
    "\n",
    "    questionList = aqg.aqgParse(inputText)\n",
    "    aqg.display(questionList)\n",
    "\n",
    "    #aqg.DisNormal(questionList)\n",
    "\n",
    "    return 0\n",
    "\n",
    "\n",
    "# Call Main Function\n",
    "if __name__ == \"__main__\":\n",
    "    main()\n"
   ]
  }
 ],
 "metadata": {
  "kernelspec": {
   "display_name": "Python 3",
   "language": "python",
   "name": "python3"
  },
  "language_info": {
   "codemirror_mode": {
    "name": "ipython",
    "version": 3
   },
   "file_extension": ".py",
   "mimetype": "text/x-python",
   "name": "python",
   "nbconvert_exporter": "python",
   "pygments_lexer": "ipython3",
   "version": "3.7.1"
  }
 },
 "nbformat": 4,
 "nbformat_minor": 2
}
